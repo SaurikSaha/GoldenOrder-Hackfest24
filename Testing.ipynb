{
 "cells": [
  {
   "cell_type": "code",
   "execution_count": 1,
   "id": "4fd83825-ba8c-45c0-8918-1930754d316b",
   "metadata": {},
   "outputs": [],
   "source": [
    "import os\n",
    "\n",
    "import numpy as np\n",
    "import pandas as pd\n",
    "import tensorflow as tf\n",
    "from sklearn.model_selection import train_test_split\n",
    "import itertools\n",
    "import random\n",
    "\n",
    "# Import visualization libraries\n",
    "import matplotlib.pyplot as plt\n",
    "import matplotlib.cm as cm\n",
    "import cv2\n",
    "\n",
    "# Tensorflow Libraries\n",
    "from tensorflow import keras\n",
    "from tensorflow.keras import layers,models\n",
    "from keras_preprocessing.image import ImageDataGenerator\n",
    "from keras.layers import Dense, Dropout\n",
    "from tensorflow.keras.callbacks import Callback, EarlyStopping,ModelCheckpoint\n",
    "from tensorflow.keras.optimizers import Adam\n",
    "from tensorflow.keras.applications import MobileNetV2\n",
    "from tensorflow.keras import Model\n",
    "from tensorflow.keras.layers.experimental import preprocessing\n",
    "from tensorflow.keras.preprocessing import image\n",
    "\n",
    "# System libraries\n",
    "from pathlib import Path\n",
    "import os.path\n",
    "\n",
    "# Metrics\n",
    "from sklearn.metrics import classification_report, confusion_matrix\n",
    "\n",
    "#from PIL import Image\n",
    "import numpy as np\n",
    "from skimage import transform"
   ]
  },
  {
   "cell_type": "code",
   "execution_count": 2,
   "id": "a377af2f-df13-4334-9d91-bbca1edb6182",
   "metadata": {},
   "outputs": [],
   "source": [
    "def crop(image):\n",
    "    #image = cv2.cvtColor(image, cv2.COLOR_BGR2RGB)  # Convert BGR to RGB\n",
    "    image = cv2.resize(image, (210, 200))  # Resize to (220, 210)\n",
    "    image = image.astype(\"float32\")/255 # Normalize pixel values to [0, 1]\n",
    "    #image = np.expand_dims(image, axis=0)\n",
    "    return image"
   ]
  },
  {
   "cell_type": "code",
   "execution_count": 3,
   "id": "6ea877f9-2f88-4d7e-be36-1884a7d4a36b",
   "metadata": {},
   "outputs": [],
   "source": [
    "def process(image):\n",
    "    #image = cv2.cvtColor(image, cv2.COLOR_BGR2RGB)\n",
    "    image = cv2.resize(image, (210, 200))\n",
    "    image = image.astype(\"float32\")\n",
    "    image = np.expand_dims(image, axis=0)\n",
    "    return image"
   ]
  },
  {
   "cell_type": "code",
   "execution_count": 4,
   "id": "96d89e24-7ff4-4a27-9796-7a20618b9b4e",
   "metadata": {},
   "outputs": [],
   "source": [
    "def transform(image):\n",
    "    image = cv2.cvtColor(image, cv2.COLOR_BGR2RGB)\n",
    "    image = cv2.resize(image, (210, 200))\n",
    "    image = image/255.0\n",
    "    image = np.expand_dims(image, axis=0)\n",
    "    return image"
   ]
  },
  {
   "cell_type": "code",
   "execution_count": 5,
   "id": "9ff8a204-f637-4ed9-ba41-a42831c26cc1",
   "metadata": {},
   "outputs": [],
   "source": [
    "model = tf.keras.models.load_model('yoga-91.04.h5')"
   ]
  },
  {
   "cell_type": "code",
   "execution_count": 6,
   "id": "012b48c0-f397-4768-a159-3e0ff4649c6b",
   "metadata": {},
   "outputs": [],
   "source": [
    "labels = [\"Adho Mukha Svanasana\" , \n",
    "          \"Adho Mukha Vrksasana\" , \n",
    "          \"Alanasana\",\n",
    "         \"Anjaneyasana\",\n",
    "         \"Ardha Chandrasana\",\n",
    "        \"Ardha Matsyendrasana\",\n",
    "          \"Ardha Navasana\",\n",
    "          \"Ardha Pincha Mayurasana\",\n",
    "          \"Ashta Chandrasana\",\n",
    "          \"Baddha Konasana\",\n",
    "          \"Bakasana\",\n",
    "          \"Balasana\",\n",
    "          \"Bitilasana\",\n",
    "          \"Camatkarasana\",\n",
    "          \"Dhanurasana\",\n",
    "          \"Eka Pada Rajakapotasana\",\n",
    "          \"Garudasana\",\n",
    "          \"Halasana\",\n",
    "          \"Hanumanasana\",\n",
    "          \"Malasana\",\n",
    "          \"Marjaryasana\",\n",
    "          \"Navasana\",\n",
    "          \"Padmasana\",\n",
    "          \"Parsva Virabhadrasana\",\n",
    "          \"Parsvottanasana\",\n",
    "          \"Paschimottanasana\",\n",
    "          \"Phalakasana\",\n",
    "          \"Pincha Mayurasana\",\n",
    "          \"Salamba Bhujangasana\",\n",
    "          \"Salamba Sarvangasana\",\n",
    "          \"Setu Bandha Sarvangasana\",\n",
    "          \"Sivasana\",\n",
    "          \"Supta Kapotasana\",\n",
    "          \"Trikonasana\",\n",
    "          \"Upavistha Konasana\",\n",
    "          \"Urdhva Dhanurasana\",\n",
    "          \"Urdhva Mukha Svsnssana\",\n",
    "          \"Ustrasana\",\n",
    "          \"Utkatasana\",\n",
    "          \"Uttanasana\",\n",
    "          \"Utthita Hasta Padangusthasana\",\n",
    "          \"Utthita Parsvakonasana\",\n",
    "          \"Vasisthasana\",\n",
    "          \"Virabhadrasana One\",\n",
    "          \"Virabhadrasana Three\",\n",
    "          \"Virabhadrasana Two\",\n",
    "          \"Vrksasana\"]"
   ]
  },
  {
   "cell_type": "code",
   "execution_count": 11,
   "id": "3afdf517-ca74-46c5-bcf4-8b5f48d8ad41",
   "metadata": {},
   "outputs": [],
   "source": [
    "test_folder = 'Test Images'"
   ]
  },
  {
   "cell_type": "code",
   "execution_count": 18,
   "id": "f7d3ad8f-36fb-4448-86cb-311422bb4ae1",
   "metadata": {},
   "outputs": [],
   "source": [
    "def preprocess(image_path):\n",
    "    image = cv2.imread(image_path)\n",
    "    image = cv2.cvtColor(image, cv2.COLOR_BGR2RGB)\n",
    "    image = cv2.resize(image, (210, 200))\n",
    "    image_arr = image.astype(\"float32\")/255.0\n",
    "    image_arr = np.expand_dims(image, axis=0)\n",
    "    return image_arr , image"
   ]
  },
  {
   "cell_type": "code",
   "execution_count": null,
   "id": "4cec51d8-7dad-44c7-818e-b5de6efc8f57",
   "metadata": {},
   "outputs": [],
   "source": [
    "for filename in os.listdir(test_folder):\n",
    "    if filename.endswith('.jpeg') or filename.endswith('.png'):\n",
    "        image_path = os.path.join(test_folder, filename)\n",
    "        \n",
    "        # Preprocess\n",
    "        preprocessed_image , img = preprocess(image_path)\n",
    "        \n",
    "        #Show Image\n",
    "        plt.imshow(img)\n",
    "        plt.axis('off')  # Turn off axis\n",
    "        plt.show()\n",
    "        \n",
    "        # Make prediction\n",
    "        predictions = model.predict(preprocessed_image)\n",
    "        predicted_class = labels[np.argmax(predictions)]\n",
    "        \n",
    "        # Output results\n",
    "        print(f\"Image: {filename}, Predicted Class: {predicted_class}\")"
   ]
  },
  {
   "cell_type": "code",
   "execution_count": null,
   "id": "d66720fb-fd6b-4478-a0fe-b55eb18e8840",
   "metadata": {},
   "outputs": [],
   "source": []
  }
 ],
 "metadata": {
  "kernelspec": {
   "display_name": "Python 3 (ipykernel)",
   "language": "python",
   "name": "python3"
  },
  "language_info": {
   "codemirror_mode": {
    "name": "ipython",
    "version": 3
   },
   "file_extension": ".py",
   "mimetype": "text/x-python",
   "name": "python",
   "nbconvert_exporter": "python",
   "pygments_lexer": "ipython3",
   "version": "3.11.0"
  }
 },
 "nbformat": 4,
 "nbformat_minor": 5
}
